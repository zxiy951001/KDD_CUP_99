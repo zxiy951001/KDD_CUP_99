{
 "cells": [
  {
   "cell_type": "code",
   "execution_count": 1,
   "metadata": {},
   "outputs": [],
   "source": [
    "#convert data to csv format"
   ]
  },
  {
   "cell_type": "code",
   "execution_count": 177,
   "metadata": {},
   "outputs": [
    {
     "name": "stdout",
     "output_type": "stream",
     "text": [
      "   duration protocol_type service flag  src_bytes  dst_bytes  land  \\\n",
      "0         0           tcp    http   SF        181       5450     0   \n",
      "1         0           tcp    http   SF        239        486     0   \n",
      "2         0           tcp    http   SF        235       1337     0   \n",
      "3         0           tcp    http   SF        219       1337     0   \n",
      "4         0           tcp    http   SF        217       2032     0   \n",
      "5         0           tcp    http   SF        217       2032     0   \n",
      "6         0           tcp    http   SF        212       1940     0   \n",
      "7         0           tcp    http   SF        159       4087     0   \n",
      "8         0           tcp    http   SF        210        151     0   \n",
      "9         0           tcp    http   SF        212        786     0   \n",
      "\n",
      "   wrong_fragment  urgent  hot  ...  dst_host_srv_count  \\\n",
      "0               0       0    0  ...                   9   \n",
      "1               0       0    0  ...                  19   \n",
      "2               0       0    0  ...                  29   \n",
      "3               0       0    0  ...                  39   \n",
      "4               0       0    0  ...                  49   \n",
      "5               0       0    0  ...                  59   \n",
      "6               0       0    0  ...                  69   \n",
      "7               0       0    0  ...                  79   \n",
      "8               0       0    0  ...                  89   \n",
      "9               0       0    1  ...                  99   \n",
      "\n",
      "   dst_host_same_srv_rate  dst_host_diff_srv_rate  \\\n",
      "0                     1.0                     0.0   \n",
      "1                     1.0                     0.0   \n",
      "2                     1.0                     0.0   \n",
      "3                     1.0                     0.0   \n",
      "4                     1.0                     0.0   \n",
      "5                     1.0                     0.0   \n",
      "6                     1.0                     0.0   \n",
      "7                     1.0                     0.0   \n",
      "8                     1.0                     0.0   \n",
      "9                     1.0                     0.0   \n",
      "\n",
      "   dst_host_same_src_port_rate  dst_host_srv_diff_host_rate  \\\n",
      "0                         0.11                         0.00   \n",
      "1                         0.05                         0.00   \n",
      "2                         0.03                         0.00   \n",
      "3                         0.03                         0.00   \n",
      "4                         0.02                         0.00   \n",
      "5                         0.02                         0.00   \n",
      "6                         1.00                         0.04   \n",
      "7                         0.09                         0.04   \n",
      "8                         0.12                         0.04   \n",
      "9                         0.12                         0.05   \n",
      "\n",
      "   dst_host_serror_rate  dst_host_srv_serror_rate  dst_host_rerror_rate  \\\n",
      "0                   0.0                       0.0                   0.0   \n",
      "1                   0.0                       0.0                   0.0   \n",
      "2                   0.0                       0.0                   0.0   \n",
      "3                   0.0                       0.0                   0.0   \n",
      "4                   0.0                       0.0                   0.0   \n",
      "5                   0.0                       0.0                   0.0   \n",
      "6                   0.0                       0.0                   0.0   \n",
      "7                   0.0                       0.0                   0.0   \n",
      "8                   0.0                       0.0                   0.0   \n",
      "9                   0.0                       0.0                   0.0   \n",
      "\n",
      "   dst_host_srv_rerror_rate   attack  \n",
      "0                       0.0  normal.  \n",
      "1                       0.0  normal.  \n",
      "2                       0.0  normal.  \n",
      "3                       0.0  normal.  \n",
      "4                       0.0  normal.  \n",
      "5                       0.0  normal.  \n",
      "6                       0.0  normal.  \n",
      "7                       0.0  normal.  \n",
      "8                       0.0  normal.  \n",
      "9                       0.0  normal.  \n",
      "\n",
      "[10 rows x 42 columns]\n"
     ]
    }
   ],
   "source": [
    "import pandas as pd\n",
    " \n",
    "col_names = [\"duration\",\"protocol_type\",\"service\",\"flag\",\"src_bytes\",\n",
    " \n",
    "\"dst_bytes\",\"land\",\"wrong_fragment\",\"urgent\",\"hot\",\"num_failed_logins\",\n",
    " \n",
    "\"logged_in\",\"num_compromised\",\"root_shell\",\"su_attempted\",\"num_root\",\n",
    " \"num_file_creations\",\"num_shells\",\"num_access_files\",\"num_outbound_cmds\",\n",
    " \n",
    " \"is_host_login\",\"is_guest_login\",\"count\",\"srv_count\",\"serror_rate\",\n",
    "\"srv_serror_rate\",\"rerror_rate\",\"srv_rerror_rate\",\"same_srv_rate\",\n",
    " \n",
    " \"diff_srv_rate\",\"srv_diff_host_rate\",\"dst_host_count\",\"dst_host_srv_count\",\n",
    "\"dst_host_same_srv_rate\",\"dst_host_diff_srv_rate\",\"dst_host_same_src_port_rate\",\n",
    "\"dst_host_srv_diff_host_rate\",\"dst_host_serror_rate\",\"dst_host_srv_serror_rate\",\n",
    " \n",
    " \"dst_host_rerror_rate\",\"dst_host_srv_rerror_rate\",\"attack\"]\n",
    " \n",
    "data1 = pd.read_table(\"C:/Users/Isaac Yeo/Downloads/kddcup.data_10_percent\",header=None, sep=',',names = col_names)\n",
    " \n",
    "print(data1.head(10))\n",
    " \n",
    "data1.to_csv(\"kddcup.data_10_percent.csv\")#save as csv fike"
   ]
  },
  {
   "cell_type": "code",
   "execution_count": 178,
   "metadata": {},
   "outputs": [
    {
     "data": {
      "text/plain": [
       "<bound method DataFrame.info of         Unnamed: 0  duration protocol_type service flag  src_bytes  dst_bytes  \\\n",
       "0                0         0           tcp    http   SF        181       5450   \n",
       "1                1         0           tcp    http   SF        239        486   \n",
       "2                2         0           tcp    http   SF        235       1337   \n",
       "3                3         0           tcp    http   SF        219       1337   \n",
       "4                4         0           tcp    http   SF        217       2032   \n",
       "...            ...       ...           ...     ...  ...        ...        ...   \n",
       "494016      494016         0           tcp    http   SF        310       1881   \n",
       "494017      494017         0           tcp    http   SF        282       2286   \n",
       "494018      494018         0           tcp    http   SF        203       1200   \n",
       "494019      494019         0           tcp    http   SF        291       1200   \n",
       "494020      494020         0           tcp    http   SF        219       1234   \n",
       "\n",
       "        land  wrong_fragment  urgent  ...  dst_host_srv_count  \\\n",
       "0          0               0       0  ...                   9   \n",
       "1          0               0       0  ...                  19   \n",
       "2          0               0       0  ...                  29   \n",
       "3          0               0       0  ...                  39   \n",
       "4          0               0       0  ...                  49   \n",
       "...      ...             ...     ...  ...                 ...   \n",
       "494016     0               0       0  ...                 255   \n",
       "494017     0               0       0  ...                 255   \n",
       "494018     0               0       0  ...                 255   \n",
       "494019     0               0       0  ...                 255   \n",
       "494020     0               0       0  ...                 255   \n",
       "\n",
       "        dst_host_same_srv_rate  dst_host_diff_srv_rate  \\\n",
       "0                          1.0                     0.0   \n",
       "1                          1.0                     0.0   \n",
       "2                          1.0                     0.0   \n",
       "3                          1.0                     0.0   \n",
       "4                          1.0                     0.0   \n",
       "...                        ...                     ...   \n",
       "494016                     1.0                     0.0   \n",
       "494017                     1.0                     0.0   \n",
       "494018                     1.0                     0.0   \n",
       "494019                     1.0                     0.0   \n",
       "494020                     1.0                     0.0   \n",
       "\n",
       "        dst_host_same_src_port_rate  dst_host_srv_diff_host_rate  \\\n",
       "0                              0.11                         0.00   \n",
       "1                              0.05                         0.00   \n",
       "2                              0.03                         0.00   \n",
       "3                              0.03                         0.00   \n",
       "4                              0.02                         0.00   \n",
       "...                             ...                          ...   \n",
       "494016                         0.01                         0.05   \n",
       "494017                         0.17                         0.05   \n",
       "494018                         0.06                         0.05   \n",
       "494019                         0.04                         0.05   \n",
       "494020                         0.17                         0.05   \n",
       "\n",
       "        dst_host_serror_rate  dst_host_srv_serror_rate  dst_host_rerror_rate  \\\n",
       "0                       0.00                      0.00                   0.0   \n",
       "1                       0.00                      0.00                   0.0   \n",
       "2                       0.00                      0.00                   0.0   \n",
       "3                       0.00                      0.00                   0.0   \n",
       "4                       0.00                      0.00                   0.0   \n",
       "...                      ...                       ...                   ...   \n",
       "494016                  0.00                      0.01                   0.0   \n",
       "494017                  0.00                      0.01                   0.0   \n",
       "494018                  0.06                      0.01                   0.0   \n",
       "494019                  0.04                      0.01                   0.0   \n",
       "494020                  0.00                      0.01                   0.0   \n",
       "\n",
       "        dst_host_srv_rerror_rate   attack  \n",
       "0                            0.0  normal.  \n",
       "1                            0.0  normal.  \n",
       "2                            0.0  normal.  \n",
       "3                            0.0  normal.  \n",
       "4                            0.0  normal.  \n",
       "...                          ...      ...  \n",
       "494016                       0.0  normal.  \n",
       "494017                       0.0  normal.  \n",
       "494018                       0.0  normal.  \n",
       "494019                       0.0  normal.  \n",
       "494020                       0.0  normal.  \n",
       "\n",
       "[494021 rows x 43 columns]>"
      ]
     },
     "execution_count": 178,
     "metadata": {},
     "output_type": "execute_result"
    }
   ],
   "source": [
    "import pandas as pd\n",
    "import matplotlib.pyplot as plt\n",
    "data2 = pd.read_csv('C:/Users/Isaac Yeo/kddcup.data_10_percent.csv')\n",
    "data2.info"
   ]
  },
  {
   "cell_type": "code",
   "execution_count": 32,
   "metadata": {},
   "outputs": [],
   "source": [
    "#[a]Z-normalization"
   ]
  },
  {
   "cell_type": "code",
   "execution_count": 179,
   "metadata": {},
   "outputs": [],
   "source": [
    "import numpy\n",
    "from sklearn.preprocessing import scale\n",
    "data2['Z-Score']=scale(data2['duration'].values.reshape(-1,1))"
   ]
  },
  {
   "cell_type": "code",
   "execution_count": 180,
   "metadata": {},
   "outputs": [
    {
     "data": {
      "text/plain": [
       "0        -0.067792\n",
       "1        -0.067792\n",
       "2        -0.067792\n",
       "3        -0.067792\n",
       "4        -0.067792\n",
       "            ...   \n",
       "494016   -0.067792\n",
       "494017   -0.067792\n",
       "494018   -0.067792\n",
       "494019   -0.067792\n",
       "494020   -0.067792\n",
       "Name: Z-Score, Length: 494021, dtype: float64"
      ]
     },
     "execution_count": 180,
     "metadata": {},
     "output_type": "execute_result"
    }
   ],
   "source": [
    "data2['Z-Score']"
   ]
  },
  {
   "cell_type": "code",
   "execution_count": 33,
   "metadata": {},
   "outputs": [],
   "source": [
    "#[b]Discretize the column 'attack'"
   ]
  },
  {
   "cell_type": "code",
   "execution_count": 181,
   "metadata": {},
   "outputs": [],
   "source": [
    "for i in data2.attack.index:\n",
    "    if (data2.loc[i, 'attack'] == 'normal.'):\n",
    "        data2.at[i, 'attack'] = -1\n",
    "    else:\n",
    "        data2.at[i, 'attack'] = 1\n",
    "        \n",
    "        "
   ]
  },
  {
   "cell_type": "code",
   "execution_count": 182,
   "metadata": {},
   "outputs": [
    {
     "data": {
      "text/plain": [
       "0         -1\n",
       "1         -1\n",
       "2         -1\n",
       "3         -1\n",
       "4         -1\n",
       "          ..\n",
       "494016    -1\n",
       "494017    -1\n",
       "494018    -1\n",
       "494019    -1\n",
       "494020    -1\n",
       "Name: attack, Length: 494021, dtype: object"
      ]
     },
     "execution_count": 182,
     "metadata": {},
     "output_type": "execute_result"
    }
   ],
   "source": [
    "data2['attack']"
   ]
  },
  {
   "cell_type": "code",
   "execution_count": 123,
   "metadata": {},
   "outputs": [],
   "source": [
    "#[c]one-hot-encoding"
   ]
  },
  {
   "cell_type": "code",
   "execution_count": 183,
   "metadata": {},
   "outputs": [],
   "source": [
    "nvals = len(set(data2['protocol_type']))\n",
    "for num, value in enumerate(set(data2['protocol_type']), start=0):\n",
    "  one_hot = [0] * nvals\n",
    "  one_hot[num] = 1\n",
    "  data2.loc[data2.protocol_type == value, 'protocol_type'] = one_hot[num]"
   ]
  },
  {
   "cell_type": "code",
   "execution_count": 184,
   "metadata": {},
   "outputs": [
    {
     "data": {
      "text/plain": [
       "0         1\n",
       "1         1\n",
       "2         1\n",
       "3         1\n",
       "4         1\n",
       "         ..\n",
       "494016    1\n",
       "494017    1\n",
       "494018    1\n",
       "494019    1\n",
       "494020    1\n",
       "Name: protocol_type, Length: 494021, dtype: int64"
      ]
     },
     "execution_count": 184,
     "metadata": {},
     "output_type": "execute_result"
    }
   ],
   "source": [
    "data2['protocol_type']"
   ]
  },
  {
   "cell_type": "code",
   "execution_count": 35,
   "metadata": {},
   "outputs": [],
   "source": [
    "#[d]develop an algorithm to distribute the values in column 'src_bytes' into 10 euqally sized bins"
   ]
  },
  {
   "cell_type": "code",
   "execution_count": 185,
   "metadata": {},
   "outputs": [
    {
     "data": {
      "text/plain": [
       "(0         1\n",
       " 1         1\n",
       " 2         1\n",
       " 3         1\n",
       " 4         1\n",
       "          ..\n",
       " 494016    1\n",
       " 494017    1\n",
       " 494018    1\n",
       " 494019    1\n",
       " 494020    1\n",
       " Name: src_bytes, Length: 494021, dtype: category\n",
       " Categories (10, int64): [1 < 2 < 3 < 4 ... 7 < 8 < 9 < 10],\n",
       " array([-6.93375640e+05,  6.93375640e+07,  1.38675128e+08,  2.08012692e+08,\n",
       "         2.77350256e+08,  3.46687820e+08,  4.16025384e+08,  4.85362948e+08,\n",
       "         5.54700512e+08,  6.24038076e+08,  6.93375640e+08]))"
      ]
     },
     "execution_count": 185,
     "metadata": {},
     "output_type": "execute_result"
    }
   ],
   "source": [
    "pd.cut(data2[\"src_bytes\"], 10, retbins = True, labels = [1,2,3,4,5,6,7,8,9,10])"
   ]
  },
  {
   "cell_type": "code",
   "execution_count": 176,
   "metadata": {},
   "outputs": [],
   "source": [
    "#[E]Perform under-sampling on row 'attack'"
   ]
  },
  {
   "cell_type": "code",
   "execution_count": 186,
   "metadata": {
    "scrolled": true
   },
   "outputs": [],
   "source": [
    "attack_count = data2.attack.value_counts()"
   ]
  },
  {
   "cell_type": "code",
   "execution_count": 187,
   "metadata": {},
   "outputs": [
    {
     "data": {
      "text/plain": [
       " 1    396743\n",
       "-1     97278\n",
       "Name: attack, dtype: int64"
      ]
     },
     "execution_count": 187,
     "metadata": {},
     "output_type": "execute_result"
    }
   ],
   "source": [
    "attack_count"
   ]
  },
  {
   "cell_type": "code",
   "execution_count": 188,
   "metadata": {},
   "outputs": [],
   "source": [
    "count_class_positive, count_class_negative = data2.attack.value_counts()"
   ]
  },
  {
   "cell_type": "code",
   "execution_count": 189,
   "metadata": {},
   "outputs": [],
   "source": [
    "df_negative = data2[data2['attack'] == -1]\n",
    "df_positive = data2[data2['attack'] == 1]"
   ]
  },
  {
   "cell_type": "code",
   "execution_count": 190,
   "metadata": {},
   "outputs": [],
   "source": [
    "df_positive_under = df_positive.sample(count_class_negative)"
   ]
  },
  {
   "cell_type": "code",
   "execution_count": 191,
   "metadata": {},
   "outputs": [],
   "source": [
    "df_test_under = pd.concat([df_positive_under, df_negative], axis=0)"
   ]
  },
  {
   "cell_type": "code",
   "execution_count": 192,
   "metadata": {},
   "outputs": [
    {
     "name": "stdout",
     "output_type": "stream",
     "text": [
      "under-sampling:\n",
      "-1    97278\n",
      " 1    97278\n",
      "Name: attack, dtype: int64\n"
     ]
    }
   ],
   "source": [
    "print('under-sampling:')\n",
    "print(df_test_under.attack.value_counts())"
   ]
  },
  {
   "cell_type": "code",
   "execution_count": 193,
   "metadata": {},
   "outputs": [
    {
     "data": {
      "image/png": "[encoded data removed]",
      "text/plain": [
       "<Figure size 432x288 with 1 Axes>"
      ]
     },
     "metadata": {
      "needs_background": "light"
     },
     "output_type": "display_data"
    }
   ],
   "source": [
    "from matplotlib import pyplot as plt\n",
    "my_colors = ['r', 'g', 'b', 'k', 'y', 'm', 'c']\n",
    "df_test_under.attack.value_counts().plot(kind='bar', title='Count (attack)',  color=my_colors);\n",
    "plt.show()"
   ]
  },
  {
   "cell_type": "code",
   "execution_count": null,
   "metadata": {},
   "outputs": [],
   "source": []
  }
 ],
 "metadata": {
  "kernelspec": {
   "display_name": "Python 3",
   "language": "python",
   "name": "python3"
  },
  "language_info": {
   "codemirror_mode": {
    "name": "ipython",
    "version": 3
   },
   "file_extension": ".py",
   "mimetype": "text/x-python",
   "name": "python",
   "nbconvert_exporter": "python",
   "pygments_lexer": "ipython3",
   "version": "3.7.4"
  }
 },
 "nbformat": 4,
 "nbformat_minor": 4
}
